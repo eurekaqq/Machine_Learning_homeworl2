{
 "cells": [
  {
   "cell_type": "code",
   "execution_count": 22,
   "metadata": {
    "collapsed": true
   },
   "outputs": [],
   "source": [
    "import numpy as np\n",
    "import pandas as pd\n",
    "import matplotlib.pyplot as plt\n",
    "import graphviz\n",
    "import csv\n",
    "import os\n",
    "from sklearn.tree import DecisionTreeClassifier\n",
    "from sklearn.neural_network import MLPClassifier\n",
    "from sklearn import preprocessing\n",
    "from sklearn.model_selection import train_test_split\n",
    "from sklearn import metrics"
   ]
  },
  {
   "cell_type": "code",
   "execution_count": 2,
   "metadata": {
    "collapsed": true
   },
   "outputs": [],
   "source": [
    "# set up your dataset folder.\n",
    "dataset_folder = './data/bank/'"
   ]
  },
  {
   "cell_type": "markdown",
   "metadata": {},
   "source": [
    "## data preprocessing"
   ]
  },
  {
   "cell_type": "code",
   "execution_count": 3,
   "metadata": {
    "collapsed": true
   },
   "outputs": [],
   "source": [
    "if not os.path.exists(dataset_folder):\n",
    "    print('your folder is not exists')\n",
    "else:\n",
    "    with open(dataset_folder + 'bank-full.csv','r',encoding = 'utf-8-sig') as origin_data:\n",
    "        with open(dataset_folder + 'bank-full-fixed.csv','w',newline='') as output_data:\n",
    "            spamwriter = csv.writer(output_data)\n",
    "            spamwriter.writerows([origin_data.readline().rstrip('\\n').split(';')])\n",
    "            for data in origin_data.readlines():\n",
    "                spamwriter.writerows([data.rstrip('\\n').split(';')])"
   ]
  },
  {
   "cell_type": "markdown",
   "metadata": {},
   "source": [
    "### data encoder"
   ]
  },
  {
   "cell_type": "code",
   "execution_count": 4,
   "metadata": {
    "collapsed": true
   },
   "outputs": [],
   "source": [
    "if os.path.exists(dataset_folder+'label_mapping.txt'):\n",
    "    os.remove(dataset_folder+'label_mapping.txt')\n",
    "encoder_data = pd.DataFrame()\n",
    "dataset = pd.read_csv(dataset_folder + 'bank-full-fixed.csv')\n",
    "for label in dataset.columns:\n",
    "    if type(dataset[label][1]) != str:\n",
    "        encoder_data[label] = dataset[label]\n",
    "    else:\n",
    "        le = preprocessing.LabelEncoder()\n",
    "        le.fit(dataset[label])\n",
    "        encoder_data[label] = le.transform(dataset[label])\n",
    "        with open(dataset_folder + 'label_mapping.txt','a',encoding='utf-8-sig') as label_mapping:\n",
    "            label_mapping.write(label+' : '+' , '.join(le.classes_)+'\\n')\n",
    "encoder_data.to_csv(dataset_folder + 'bank-full-fixed-encoder.csv',index=False)"
   ]
  },
  {
   "cell_type": "markdown",
   "metadata": {},
   "source": [
    "## Decision Trees"
   ]
  },
  {
   "cell_type": "code",
   "execution_count": 24,
   "metadata": {
    "collapsed": true
   },
   "outputs": [],
   "source": [
    "dataset = pd.read_csv(dataset_folder + 'bank-full-fixed-encoder.csv')\n",
    "X = np.array(dataset.iloc[:,:-1])\n",
    "Y = np.array(dataset['\"y\"'])\n",
    "X_train,X_test,Y_train,Y_test = train_test_split(X,Y,test_size = 0.2,random_state = 20)\n",
    "# end_of_train = int(dataset.shape[0]*0.8)\n",
    "# X_train = np.array(dataset.iloc[:end_of_train,:-1])\n",
    "# X_test = np.array(dataset.iloc[end_of_train:,:-1])\n",
    "# Y_train = np.array(dataset.iloc[:end_of_train,-1])\n",
    "# Y_test = np.array(dataset.iloc[end_of_train:,-1])"
   ]
  },
  {
   "cell_type": "code",
   "execution_count": 25,
   "metadata": {
    "scrolled": true
   },
   "outputs": [
    {
     "data": {
      "text/plain": [
       "DecisionTreeClassifier(class_weight=None, criterion='gini', max_depth=None,\n",
       "            max_features=None, max_leaf_nodes=None,\n",
       "            min_impurity_split=1e-07, min_samples_leaf=1,\n",
       "            min_samples_split=2, min_weight_fraction_leaf=0.0,\n",
       "            presort=False, random_state=None, splitter='best')"
      ]
     },
     "execution_count": 25,
     "metadata": {},
     "output_type": "execute_result"
    }
   ],
   "source": [
    "clf = DecisionTreeClassifier()\n",
    "# clf = clf.fit(X, Y)\n",
    "clf.fit(X_train,Y_train)"
   ]
  },
  {
   "cell_type": "code",
   "execution_count": 29,
   "metadata": {
    "scrolled": false
   },
   "outputs": [
    {
     "name": "stdout",
     "output_type": "stream",
     "text": [
      "accuracy 0.8763684617936526\n",
      "recall 0.460362941738\n",
      "precision 0.465700483092\n",
      "f1_score 0.463016330451\n"
     ]
    }
   ],
   "source": [
    "number_of_correct = 0\n",
    "for index,testing_data in enumerate(X_test):\n",
    "    if clf.predict(testing_data.reshape(1,-1)) == Y_test[index]:\n",
    "        number_of_correct +=1\n",
    "print('accuracy ' + str(number_of_correct/len(X_test)))\n",
    "print('recall ' + str(metrics.recall_score(Y_test,clf.predict(X_test))))\n",
    "print('precision ' + str(metrics.precision_score(Y_test,clf.predict(X_test))))\n",
    "print('f1_score ' + str(metrics.f1_score(Y_test,clf.predict(X_test))))"
   ]
  },
  {
   "cell_type": "code",
   "execution_count": 7,
   "metadata": {
    "scrolled": true
   },
   "outputs": [
    {
     "data": {
      "text/plain": [
       "array([0], dtype=int64)"
      ]
     },
     "execution_count": 7,
     "metadata": {},
     "output_type": "execute_result"
    }
   ],
   "source": [
    "clf.predict([[58,4,1,2,0,2143,1,0,2,5,8,261,1,-1,0,3]])"
   ]
  },
  {
   "cell_type": "code",
   "execution_count": 8,
   "metadata": {},
   "outputs": [
    {
     "data": {
      "text/plain": [
       "array([1], dtype=int64)"
      ]
     },
     "execution_count": 8,
     "metadata": {},
     "output_type": "execute_result"
    }
   ],
   "source": [
    "clf.predict([[59,0,1,1,0,2343,1,0,2,5,8,1042,1,-1,0,3]])"
   ]
  },
  {
   "cell_type": "markdown",
   "metadata": {},
   "source": [
    "## ANN"
   ]
  },
  {
   "cell_type": "code",
   "execution_count": 30,
   "metadata": {
    "collapsed": true
   },
   "outputs": [],
   "source": [
    "dataset = pd.read_csv(dataset_folder + 'bank-full-fixed-encoder.csv')\n",
    "X = np.array(dataset.iloc[:,:-1])\n",
    "Y = np.array(dataset['\"y\"'])"
   ]
  },
  {
   "cell_type": "code",
   "execution_count": 31,
   "metadata": {
    "scrolled": true
   },
   "outputs": [
    {
     "data": {
      "text/plain": [
       "MLPClassifier(activation='relu', alpha=0.0001, batch_size='auto', beta_1=0.9,\n",
       "       beta_2=0.999, early_stopping=False, epsilon=1e-08,\n",
       "       hidden_layer_sizes=(100,), learning_rate='constant',\n",
       "       learning_rate_init=0.001, max_iter=200, momentum=0.9,\n",
       "       nesterovs_momentum=True, power_t=0.5, random_state=None,\n",
       "       shuffle=True, solver='adam', tol=0.0001, validation_fraction=0.1,\n",
       "       verbose=False, warm_start=False)"
      ]
     },
     "execution_count": 31,
     "metadata": {},
     "output_type": "execute_result"
    }
   ],
   "source": [
    "NN = MLPClassifier()\n",
    "NN.fit(X,Y)"
   ]
  },
  {
   "cell_type": "code",
   "execution_count": 32,
   "metadata": {},
   "outputs": [
    {
     "data": {
      "text/plain": [
       "array([0], dtype=int64)"
      ]
     },
     "execution_count": 32,
     "metadata": {},
     "output_type": "execute_result"
    }
   ],
   "source": [
    "NN.predict([[59,0,1,1,0,2343,1,0,2,5,8,1042,1,-1,0,3]])"
   ]
  },
  {
   "cell_type": "code",
   "execution_count": 33,
   "metadata": {},
   "outputs": [
    {
     "data": {
      "text/plain": [
       "array([0], dtype=int64)"
      ]
     },
     "execution_count": 33,
     "metadata": {},
     "output_type": "execute_result"
    }
   ],
   "source": [
    "NN.predict([[5,7,1,1,0,2476,1,0,2,5,8,222579,1,-1,0,3]])"
   ]
  },
  {
   "cell_type": "code",
   "execution_count": 34,
   "metadata": {},
   "outputs": [
    {
     "data": {
      "text/plain": [
       "array([0], dtype=int64)"
      ]
     },
     "execution_count": 34,
     "metadata": {},
     "output_type": "execute_result"
    }
   ],
   "source": [
    "NN.predict([[58,4,1,2,0,2143,1,0,2,5,8,261,1,-1,0,3]])"
   ]
  },
  {
   "cell_type": "code",
   "execution_count": 35,
   "metadata": {},
   "outputs": [
    {
     "name": "stdout",
     "output_type": "stream",
     "text": [
      "accuracy 0.8849939179475838\n",
      "recall 0.0105062082139\n",
      "precision 0.733333333333\n",
      "f1_score 0.0207156308851\n"
     ]
    }
   ],
   "source": [
    "number_of_correct = 0\n",
    "for index,testing_data in enumerate(X_test):\n",
    "    if NN.predict(testing_data.reshape(1,-1)) == Y_test[index]:\n",
    "        number_of_correct +=1\n",
    "print('accuracy ' + str(number_of_correct/len(X_test)))\n",
    "print('recall ' + str(metrics.recall_score(Y_test,NN.predict(X_test))))\n",
    "print('precision ' + str(metrics.precision_score(Y_test,NN.predict(X_test))))\n",
    "print('f1_score ' + str(metrics.f1_score(Y_test,NN.predict(X_test))))"
   ]
  },
  {
   "cell_type": "code",
   "execution_count": null,
   "metadata": {
    "collapsed": true
   },
   "outputs": [],
   "source": []
  }
 ],
 "metadata": {
  "kernelspec": {
   "display_name": "Python 3",
   "language": "python",
   "name": "python3"
  },
  "language_info": {
   "codemirror_mode": {
    "name": "ipython",
    "version": 3
   },
   "file_extension": ".py",
   "mimetype": "text/x-python",
   "name": "python",
   "nbconvert_exporter": "python",
   "pygments_lexer": "ipython3",
   "version": "3.5.2"
  }
 },
 "nbformat": 4,
 "nbformat_minor": 2
}
